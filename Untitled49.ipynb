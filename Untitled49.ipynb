{
 "cells": [
  {
   "cell_type": "markdown",
   "id": "4c2ce909",
   "metadata": {},
   "source": [
    "A database is a structured collection of data that is organized, stored, and managed in a way that allows for efficient retrieval, updating, and analysis of the data. It provides a systematic way to store and retrieve information.\n",
    "\n",
    "SQL (Structured Query Language) and NoSQL (Not Only SQL) are two different types of database management systems.\n",
    "\n",
    "SQL databases are based on the relational model and use structured query language (SQL) for defining and manipulating the data. They organize data into tables with predefined schemas, where each table represents an entity or a relationship. SQL databases ensure data integrity through ACID (Atomicity, Consistency, Isolation, Durability) properties and are suitable for complex queries and transactions. Examples of SQL databases include MySQL, Oracle, PostgreSQL, and Microsoft SQL Server.\n",
    "\n",
    "NoSQL databases, on the other hand, are designed to handle unstructured, semi-structured, or structured data and provide flexible schemas. They are often used for handling large-scale, distributed, and real-time data. NoSQL databases can be categorized into different types, such as document databases, key-value stores, columnar databases, and graph databases. Examples of NoSQL databases include MongoDB, Cassandra, Redis, and Neo4j.\n",
    "\n"
   ]
  },
  {
   "cell_type": "markdown",
   "id": "4ff76578",
   "metadata": {},
   "source": [
    "DDL (Data Definition Language) is a set of SQL commands used to define and manage the structure of database objects such as tables, indexes, views, and schemas. DDL statements allow you to create, modify, and delete database objects.\n",
    "\n",
    "CREATE: The CREATE statement is used to create a new database object. For example, to create a table named \"employees\" with columns for \"id,\" \"name,\" and \"salary,\" you can use the following SQL command:\n",
    "sql\n",
    "Copy code\n",
    "CREATE TABLE employees (\n",
    "    id INT PRIMARY KEY,\n",
    "    name VARCHAR(100),\n",
    "    salary DECIMAL(10, 2)\n",
    ");\n",
    "DROP: The DROP statement is used to delete a database object. For example, to drop the \"employees\" table, you can use the following SQL command:\n",
    "sql\n",
    "Copy code\n",
    "DROP TABLE employees;\n",
    "ALTER: The ALTER statement is used to modify the structure of an existing database object. For example, to add a new column \"age\" to the \"employees\" table, you can use the following SQL command:\n",
    "sql\n",
    "Copy code\n",
    "ALTER TABLE employees ADD COLUMN age INT;\n",
    "TRUNCATE: The TRUNCATE statement is used to delete all data from a table while keeping the table structure intact. For example, to remove all data from the \"employees\" table, you can use the following SQL command:\n",
    "sql\n",
    "Copy code\n",
    "TRUNCATE TABLE employees;\n",
    "These DDL statements provide the necessary tools to create, modify, and delete the structure of the database objects according to the requirements of the application.\n",
    "\n"
   ]
  },
  {
   "cell_type": "markdown",
   "id": "e2088e30",
   "metadata": {},
   "source": [
    "DML (Data Manipulation Language) is a set of SQL commands used to manipulate and query the data within the database objects.\n",
    "\n",
    "INSERT: The INSERT statement is used to add new records into a table. For example, to insert a new employee with the values \"101\" for \"id,\" \"John\" for \"name,\" and \"5000\" for \"salary\" into the \"employees\" table, you can use the following SQL command:\n",
    "sql\n",
    "Copy code\n",
    "INSERT INTO employees (id, name, salary) VALUES (101, 'John', 5000);\n",
    "UPDATE: The UPDATE statement is used to modify existing records in a table. For example, to update the salary of an employee with id \"101\" to \"6000\" in the \"employees\" table, you can use the following SQL command:\n",
    "sql\n",
    "Copy code\n",
    "UPDATE employees SET salary = 6000 WHERE id = 101;\n",
    "DELETE: The DELETE statement is used to remove records from a table. For example, to delete an employee with id \"101\" from the \"employees\" table, you can use the following SQL command:\n",
    "sql\n",
    "Copy code\n",
    "DELETE FROM employees WHERE id = 101;\n",
    "These DML statements allow you to manipulate and modify the data stored in the database tables."
   ]
  },
  {
   "cell_type": "markdown",
   "id": "4653a8d6",
   "metadata": {},
   "source": [
    "DQL (Data Query Language) is a subset of SQL used to query and retrieve data from the database.\n",
    "\n",
    "SELECT: The SELECT statement is used to retrieve data from one or more tables in the database. It allows you to specify which columns to retrieve and apply various conditions and filters. For example, to retrieve all the records from the \"employees\" table, you can use the following SQL command:\n",
    "sql\n",
    "Copy code\n",
    "SELECT * FROM employees;\n",
    "This query will return all columns and rows from the \"employees\" table. You can also specify specific columns to retrieve instead of using the asterisk (*) to select all columns.\n"
   ]
  },
  {
   "cell_type": "markdown",
   "id": "03e71179",
   "metadata": {},
   "source": [
    "Primary Key: A primary key is a column or a set of columns in a table that uniquely identifies each row or record. It ensures the uniqueness and integrity of the data within a table. Primary keys enforce entity integrity and are used as a reference for establishing relationships with other tables. In most databases, primary keys are defined as non-null and automatically indexed for faster access. For example, in an \"employees\" table, the \"id\" column can be defined as the primary key.\n",
    "Foreign Key: A foreign key is a column or a set of columns in a table that establishes a link or a relationship between two tables. It refers to the primary key of another table, creating a parent-child relationship between the tables. Foreign keys enforce referential integrity and help maintain consistency in the data. They ensure that the values in the foreign key column(s) exist in the referenced table's primary key column(s). For example, in an \"orders\" table, a foreign key column \"customer_id\" can reference the primary key column \"id\" in a \"customers\" table, indicating which customer placed the order."
   ]
  },
  {
   "cell_type": "code",
   "execution_count": 1,
   "id": "73809bbc",
   "metadata": {},
   "outputs": [
    {
     "ename": "ModuleNotFoundError",
     "evalue": "No module named 'mysql'",
     "output_type": "error",
     "traceback": [
      "\u001b[0;31m---------------------------------------------------------------------------\u001b[0m",
      "\u001b[0;31mModuleNotFoundError\u001b[0m                       Traceback (most recent call last)",
      "\u001b[0;32m/var/folders/w1/6htwlcm11pj97jmd5_5n8s2h0000gn/T/ipykernel_43868/1786302843.py\u001b[0m in \u001b[0;36m<module>\u001b[0;34m\u001b[0m\n\u001b[0;32m----> 1\u001b[0;31m \u001b[0;32mimport\u001b[0m \u001b[0mmysql\u001b[0m\u001b[0;34m.\u001b[0m\u001b[0mconnector\u001b[0m\u001b[0;34m\u001b[0m\u001b[0;34m\u001b[0m\u001b[0m\n\u001b[0m\u001b[1;32m      2\u001b[0m \u001b[0;34m\u001b[0m\u001b[0m\n\u001b[1;32m      3\u001b[0m \u001b[0;31m# Establish the connection\u001b[0m\u001b[0;34m\u001b[0m\u001b[0;34m\u001b[0m\u001b[0m\n\u001b[1;32m      4\u001b[0m conn = mysql.connector.connect(\n\u001b[1;32m      5\u001b[0m     \u001b[0mhost\u001b[0m\u001b[0;34m=\u001b[0m\u001b[0;34m\"localhost\"\u001b[0m\u001b[0;34m,\u001b[0m\u001b[0;34m\u001b[0m\u001b[0;34m\u001b[0m\u001b[0m\n",
      "\u001b[0;31mModuleNotFoundError\u001b[0m: No module named 'mysql'"
     ]
    }
   ],
   "source": [
    "import mysql.connector\n",
    "\n",
    "# Establish the connection\n",
    "conn = mysql.connector.connect(\n",
    "    host=\"localhost\",\n",
    "    user=\"your_username\",\n",
    "    password=\"your_password\",\n",
    "    database=\"your_database\"\n",
    ")\n",
    "\n",
    "# Create a cursor object to interact with the database\n",
    "cursor = conn.cursor()\n",
    "\n",
    "# Execute a query\n",
    "query = \"SELECT * FROM employees\"\n",
    "cursor.execute(query)\n",
    "\n",
    "# Fetch all the rows from the result\n",
    "rows = cursor.fetchall()\n",
    "\n",
    "# Process the rows\n",
    "for row in rows:\n",
    "    print(row)\n",
    "\n",
    "# Close the cursor and the connection\n",
    "cursor.close()\n",
    "conn.close()\n"
   ]
  },
  {
   "cell_type": "code",
   "execution_count": null,
   "id": "ffd1b403",
   "metadata": {},
   "outputs": [],
   "source": []
  }
 ],
 "metadata": {
  "kernelspec": {
   "display_name": "Python 3 (ipykernel)",
   "language": "python",
   "name": "python3"
  },
  "language_info": {
   "codemirror_mode": {
    "name": "ipython",
    "version": 3
   },
   "file_extension": ".py",
   "mimetype": "text/x-python",
   "name": "python",
   "nbconvert_exporter": "python",
   "pygments_lexer": "ipython3",
   "version": "3.9.13"
  }
 },
 "nbformat": 4,
 "nbformat_minor": 5
}
